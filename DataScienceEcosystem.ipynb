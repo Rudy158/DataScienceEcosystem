{
 "cells": [
  {
   "cell_type": "markdown",
   "id": "92f8a0d4-f768-48f9-a418-4a20da8f4b23",
   "metadata": {},
   "source": [
    "# Data Science Tools and Ecosystem"
   ]
  },
  {
   "cell_type": "markdown",
   "id": "b0db676f-cd0c-4186-9099-511ef539a477",
   "metadata": {},
   "source": [
    "In this notebook, Data Science Tools and Ecosystem are summarized.\n"
   ]
  },
  {
   "cell_type": "markdown",
   "id": "69ca129e-7013-4527-83f0-b2880b1c8318",
   "metadata": {},
   "source": [
    "Some of the popular languages that Data Scientists use are:\n",
    "\n",
    "1. Python\n",
    "2. R\n",
    "3. SQL\n",
    "4. Julia\n",
    "5. Scala\n"
   ]
  },
  {
   "cell_type": "markdown",
   "id": "05d4a04f-50c5-4032-a180-f3991d36440c",
   "metadata": {},
   "source": [
    "Some of the commonly used libraries used by Data Scientists include:\n",
    "\n",
    "1. Numpy\n",
    "2. Pandas\n",
    "3. Matplotlib\n",
    "4. TensorFlow"
   ]
  },
  {
   "cell_type": "markdown",
   "id": "6098b180-1b9d-47b1-a445-e2111c0967d4",
   "metadata": {},
   "source": [
    "| Data Science Tools |\n",
    "| ------------------ |\n",
    "| Jupyter Notebooks |  \n",
    "| RStudio | \n",
    "| Apache Zeppelin | "
   ]
  },
  {
   "cell_type": "markdown",
   "id": "4fe38ad1-1f33-45d3-adb0-3609c568d5fb",
   "metadata": {},
   "source": [
    "### Below are a few examples of evaluating arithmetic expressions in Python ###"
   ]
  },
  {
   "cell_type": "code",
   "execution_count": 4,
   "id": "b289c778-8640-4a3a-8897-0dc1c14befb1",
   "metadata": {},
   "outputs": [
    {
     "data": {
      "text/plain": [
       "17"
      ]
     },
     "execution_count": 4,
     "metadata": {},
     "output_type": "execute_result"
    }
   ],
   "source": [
    "# This is a simple arithmetic expression to multiply then add integers #\n",
    "(3 * 4) + 5\n"
   ]
  },
  {
   "cell_type": "code",
   "execution_count": 5,
   "id": "bdc30421-6537-42a1-89ce-5c295b08b4a0",
   "metadata": {},
   "outputs": [
    {
     "data": {
      "text/plain": [
       "3.3333333333333335"
      ]
     },
     "execution_count": 5,
     "metadata": {},
     "output_type": "execute_result"
    }
   ],
   "source": [
    "# This will convert 200 minutes to hours by diving by 60 #\n",
    "200/60"
   ]
  },
  {
   "cell_type": "markdown",
   "id": "616ecb00-f4ab-49b0-b221-bf2ce4056659",
   "metadata": {},
   "source": [
    "**Objectives:**\n",
    "- List popular languages for Data Science.\n",
    "- List common libraries used in Data Science.\n",
    "- Create a table of Data Science tools.\n",
    "- Evaluate arithmetic expressions.\n",
    "- Convert time units (minutes to hours).\n"
   ]
  },
  {
   "cell_type": "markdown",
   "id": "17d75854-aada-4bc5-b97c-ecea9324e71b",
   "metadata": {},
   "source": [
    "## Author ##\n",
    "Rudy Alonso Morales Oliva "
   ]
  }
 ],
 "metadata": {
  "kernelspec": {
   "display_name": "Python 3 (ipykernel)",
   "language": "python",
   "name": "python3"
  },
  "language_info": {
   "codemirror_mode": {
    "name": "ipython",
    "version": 3
   },
   "file_extension": ".py",
   "mimetype": "text/x-python",
   "name": "python",
   "nbconvert_exporter": "python",
   "pygments_lexer": "ipython3",
   "version": "3.12.7"
  }
 },
 "nbformat": 4,
 "nbformat_minor": 5
}
